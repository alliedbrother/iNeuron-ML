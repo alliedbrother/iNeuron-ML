{
 "cells": [
  {
   "cell_type": "markdown",
   "metadata": {},
   "source": [
    "1.1 Write a Python Program(with class concepts) to find the area of the triangle using the below formula.\n",
    "\n",
    "area = (s*(s-a)*(s-b)*(s-c)) ** 0.5\n",
    "\n",
    "Function to take the length of the sides of triangle from user should be defined in the parent class and function to calculate the area should be defined in subclass."
   ]
  },
  {
   "cell_type": "code",
   "execution_count": 50,
   "metadata": {},
   "outputs": [
    {
     "name": "stdout",
     "output_type": "stream",
     "text": [
      "Enter the three sides of the trinagle\n",
      "3 4 5\n",
      "Area of triangle is: 6.0\n"
     ]
    }
   ],
   "source": [
    "class areafinder:\n",
    "    def __init__(self):\n",
    "        self.s=input(\"Enter the three sides of the trinagle\\n\")\n",
    "        self.s=self.s.split()\n",
    "        (self.a,self.b,self.c)=(int(i) for i in self.s)\n",
    "        \n",
    "    def areaoftriangle(self):\n",
    "        a=self.a\n",
    "        b=self.b\n",
    "        c=self.c\n",
    "        w = (a+b+c)/2\n",
    "        area = (w*(w-a)*(w-b)*(w-c)) ** 0.5\n",
    "        print(\"Area of triangle is:\",round(area,2))\n",
    "              \n",
    "q = areafinder()\n",
    "\n",
    "q.areaoftriangle()\n",
    "              "
   ]
  },
  {
   "cell_type": "markdown",
   "metadata": {},
   "source": [
    "1.2 Write a function filter_long_words() that takes a list of words and an integer n and returns\n",
    "the list of words that are longer than n."
   ]
  },
  {
   "cell_type": "code",
   "execution_count": 51,
   "metadata": {},
   "outputs": [
    {
     "data": {
      "text/plain": [
       "['apple', 'ball', 'elephant']"
      ]
     },
     "execution_count": 51,
     "metadata": {},
     "output_type": "execute_result"
    }
   ],
   "source": [
    "def filter_long_words(l:list,n:int):\n",
    "    a=[]\n",
    "    for i in l:\n",
    "        if len(i)>n:\n",
    "            a.append(i)\n",
    "    return a\n",
    "\n",
    "ll=['apple','ball','cat','dog','elephant']\n",
    "\n",
    "h=filter_long_words(ll,3)\n",
    "\n",
    "h\n"
   ]
  },
  {
   "cell_type": "markdown",
   "metadata": {},
   "source": [
    "2.1 Write a Python program using function concept that maps list of words into a list of integers\n",
    "representing the lengths of the corresponding words.\n",
    "\n",
    "Hint: If a list [ ab,cde,erty] is passed on to the python function output should come as [2,3,4].\n",
    "\n",
    "Here 2,3 and 4 are the lengths of the words in the list."
   ]
  },
  {
   "cell_type": "code",
   "execution_count": 52,
   "metadata": {},
   "outputs": [
    {
     "data": {
      "text/plain": [
       "[5, 4, 3, 3, 8]"
      ]
     },
     "execution_count": 52,
     "metadata": {},
     "output_type": "execute_result"
    }
   ],
   "source": [
    "def mapper(l:list):\n",
    "    a=[]\n",
    "    for i in l:\n",
    "        a.append(len(i))\n",
    "    return a\n",
    "\n",
    "ll=['apple','ball','cat','dog','elephant']\n",
    "\n",
    "h=mapper(ll)\n",
    "\n",
    "h"
   ]
  },
  {
   "cell_type": "code",
   "execution_count": 53,
   "metadata": {},
   "outputs": [
    {
     "name": "stdout",
     "output_type": "stream",
     "text": [
      "False\n",
      "True\n"
     ]
    }
   ],
   "source": [
    "def vowel(a):\n",
    "    vo='aeiou'\n",
    "    if a in vo:\n",
    "        return True\n",
    "    return False\n",
    "\n",
    "h1=vowel('q')\n",
    "h2=vowel('i')\n",
    "print(h1)\n",
    "print(h2)    "
   ]
  }
 ],
 "metadata": {
  "kernelspec": {
   "display_name": "Python 3",
   "language": "python",
   "name": "python3"
  },
  "language_info": {
   "codemirror_mode": {
    "name": "ipython",
    "version": 3
   },
   "file_extension": ".py",
   "mimetype": "text/x-python",
   "name": "python",
   "nbconvert_exporter": "python",
   "pygments_lexer": "ipython3",
   "version": "3.7.4"
  }
 },
 "nbformat": 4,
 "nbformat_minor": 2
}
